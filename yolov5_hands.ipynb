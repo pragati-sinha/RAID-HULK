{
  "nbformat": 4,
  "nbformat_minor": 0,
  "metadata": {
    "colab": {
      "provenance": [],
      "gpuType": "T4"
    },
    "kernelspec": {
      "name": "python3",
      "display_name": "Python 3"
    },
    "language_info": {
      "name": "python"
    },
    "accelerator": "GPU"
  },
  "cells": [
    {
      "cell_type": "code",
      "source": [
        "import torch\n",
        "from IPython.display import Image  # for displaying images\n",
        "import os\n",
        "import random\n",
        "import shutil\n",
        "from sklearn.model_selection import train_test_split\n",
        "import xml.etree.ElementTree as ET\n",
        "from xml.dom import minidom\n",
        "from tqdm import tqdm\n",
        "from PIL import Image, ImageDraw\n",
        "import numpy as np\n",
        "import matplotlib.pyplot as plt\n",
        "import cv2\n",
        "import torch\n",
        "import glob\n",
        "%matplotlib inline\n",
        "\n",
        "random.seed(108)"
      ],
      "metadata": {
        "id": "v9dM9mcskKc3"
      },
      "execution_count": 1,
      "outputs": []
    },
    {
      "cell_type": "code",
      "source": [
        "!git clone https://github.com/ultralytics/yolov5"
      ],
      "metadata": {
        "colab": {
          "base_uri": "https://localhost:8080/"
        },
        "id": "cHau1ezakKe1",
        "outputId": "00c5e0f6-41bc-4603-8ea0-3e05e53ca621"
      },
      "execution_count": 2,
      "outputs": [
        {
          "output_type": "stream",
          "name": "stdout",
          "text": [
            "Cloning into 'yolov5'...\n",
            "remote: Enumerating objects: 15821, done.\u001b[K\n",
            "remote: Counting objects: 100% (52/52), done.\u001b[K\n",
            "remote: Compressing objects: 100% (49/49), done.\u001b[K\n",
            "remote: Total 15821 (delta 14), reused 24 (delta 3), pack-reused 15769\u001b[K\n",
            "Receiving objects: 100% (15821/15821), 14.60 MiB | 17.42 MiB/s, done.\n",
            "Resolving deltas: 100% (10828/10828), done.\n"
          ]
        }
      ]
    },
    {
      "cell_type": "code",
      "source": [
        "!pip install -r yolov5/requirements.txt"
      ],
      "metadata": {
        "colab": {
          "base_uri": "https://localhost:8080/"
        },
        "id": "l2b8aPNgkKhI",
        "outputId": "ddb3f32d-8a37-436f-e6e8-7ae91036a4ae"
      },
      "execution_count": 3,
      "outputs": [
        {
          "output_type": "stream",
          "name": "stdout",
          "text": [
            "Collecting gitpython>=3.1.30 (from -r yolov5/requirements.txt (line 5))\n",
            "  Downloading GitPython-3.1.32-py3-none-any.whl (188 kB)\n",
            "\u001b[2K     \u001b[90m━━━━━━━━━━━━━━━━━━━━━━━━━━━━━━━━━━━━━━━\u001b[0m \u001b[32m188.5/188.5 kB\u001b[0m \u001b[31m1.4 MB/s\u001b[0m eta \u001b[36m0:00:00\u001b[0m\n",
            "\u001b[?25hRequirement already satisfied: matplotlib>=3.3 in /usr/local/lib/python3.10/dist-packages (from -r yolov5/requirements.txt (line 6)) (3.7.1)\n",
            "Requirement already satisfied: numpy>=1.18.5 in /usr/local/lib/python3.10/dist-packages (from -r yolov5/requirements.txt (line 7)) (1.22.4)\n",
            "Requirement already satisfied: opencv-python>=4.1.1 in /usr/local/lib/python3.10/dist-packages (from -r yolov5/requirements.txt (line 8)) (4.7.0.72)\n",
            "Requirement already satisfied: Pillow>=7.1.2 in /usr/local/lib/python3.10/dist-packages (from -r yolov5/requirements.txt (line 9)) (8.4.0)\n",
            "Requirement already satisfied: psutil in /usr/local/lib/python3.10/dist-packages (from -r yolov5/requirements.txt (line 10)) (5.9.5)\n",
            "Requirement already satisfied: PyYAML>=5.3.1 in /usr/local/lib/python3.10/dist-packages (from -r yolov5/requirements.txt (line 11)) (6.0.1)\n",
            "Requirement already satisfied: requests>=2.23.0 in /usr/local/lib/python3.10/dist-packages (from -r yolov5/requirements.txt (line 12)) (2.27.1)\n",
            "Requirement already satisfied: scipy>=1.4.1 in /usr/local/lib/python3.10/dist-packages (from -r yolov5/requirements.txt (line 13)) (1.10.1)\n",
            "Collecting thop>=0.1.1 (from -r yolov5/requirements.txt (line 14))\n",
            "  Downloading thop-0.1.1.post2209072238-py3-none-any.whl (15 kB)\n",
            "Requirement already satisfied: torch>=1.7.0 in /usr/local/lib/python3.10/dist-packages (from -r yolov5/requirements.txt (line 15)) (2.0.1+cu118)\n",
            "Requirement already satisfied: torchvision>=0.8.1 in /usr/local/lib/python3.10/dist-packages (from -r yolov5/requirements.txt (line 16)) (0.15.2+cu118)\n",
            "Requirement already satisfied: tqdm>=4.64.0 in /usr/local/lib/python3.10/dist-packages (from -r yolov5/requirements.txt (line 17)) (4.65.0)\n",
            "Collecting ultralytics>=8.0.111 (from -r yolov5/requirements.txt (line 18))\n",
            "  Downloading ultralytics-8.0.141-py3-none-any.whl (607 kB)\n",
            "\u001b[2K     \u001b[90m━━━━━━━━━━━━━━━━━━━━━━━━━━━━━━━━━━━━━━\u001b[0m \u001b[32m607.6/607.6 kB\u001b[0m \u001b[31m28.8 MB/s\u001b[0m eta \u001b[36m0:00:00\u001b[0m\n",
            "\u001b[?25hRequirement already satisfied: pandas>=1.1.4 in /usr/local/lib/python3.10/dist-packages (from -r yolov5/requirements.txt (line 27)) (1.5.3)\n",
            "Requirement already satisfied: seaborn>=0.11.0 in /usr/local/lib/python3.10/dist-packages (from -r yolov5/requirements.txt (line 28)) (0.12.2)\n",
            "Requirement already satisfied: setuptools>=65.5.1 in /usr/local/lib/python3.10/dist-packages (from -r yolov5/requirements.txt (line 42)) (67.7.2)\n",
            "Collecting gitdb<5,>=4.0.1 (from gitpython>=3.1.30->-r yolov5/requirements.txt (line 5))\n",
            "  Downloading gitdb-4.0.10-py3-none-any.whl (62 kB)\n",
            "\u001b[2K     \u001b[90m━━━━━━━━━━━━━━━━━━━━━━━━━━━━━━━━━━━━━━━━\u001b[0m \u001b[32m62.7/62.7 kB\u001b[0m \u001b[31m6.7 MB/s\u001b[0m eta \u001b[36m0:00:00\u001b[0m\n",
            "\u001b[?25hRequirement already satisfied: contourpy>=1.0.1 in /usr/local/lib/python3.10/dist-packages (from matplotlib>=3.3->-r yolov5/requirements.txt (line 6)) (1.1.0)\n",
            "Requirement already satisfied: cycler>=0.10 in /usr/local/lib/python3.10/dist-packages (from matplotlib>=3.3->-r yolov5/requirements.txt (line 6)) (0.11.0)\n",
            "Requirement already satisfied: fonttools>=4.22.0 in /usr/local/lib/python3.10/dist-packages (from matplotlib>=3.3->-r yolov5/requirements.txt (line 6)) (4.41.0)\n",
            "Requirement already satisfied: kiwisolver>=1.0.1 in /usr/local/lib/python3.10/dist-packages (from matplotlib>=3.3->-r yolov5/requirements.txt (line 6)) (1.4.4)\n",
            "Requirement already satisfied: packaging>=20.0 in /usr/local/lib/python3.10/dist-packages (from matplotlib>=3.3->-r yolov5/requirements.txt (line 6)) (23.1)\n",
            "Requirement already satisfied: pyparsing>=2.3.1 in /usr/local/lib/python3.10/dist-packages (from matplotlib>=3.3->-r yolov5/requirements.txt (line 6)) (3.1.0)\n",
            "Requirement already satisfied: python-dateutil>=2.7 in /usr/local/lib/python3.10/dist-packages (from matplotlib>=3.3->-r yolov5/requirements.txt (line 6)) (2.8.2)\n",
            "Requirement already satisfied: urllib3<1.27,>=1.21.1 in /usr/local/lib/python3.10/dist-packages (from requests>=2.23.0->-r yolov5/requirements.txt (line 12)) (1.26.16)\n",
            "Requirement already satisfied: certifi>=2017.4.17 in /usr/local/lib/python3.10/dist-packages (from requests>=2.23.0->-r yolov5/requirements.txt (line 12)) (2023.5.7)\n",
            "Requirement already satisfied: charset-normalizer~=2.0.0 in /usr/local/lib/python3.10/dist-packages (from requests>=2.23.0->-r yolov5/requirements.txt (line 12)) (2.0.12)\n",
            "Requirement already satisfied: idna<4,>=2.5 in /usr/local/lib/python3.10/dist-packages (from requests>=2.23.0->-r yolov5/requirements.txt (line 12)) (3.4)\n",
            "Requirement already satisfied: filelock in /usr/local/lib/python3.10/dist-packages (from torch>=1.7.0->-r yolov5/requirements.txt (line 15)) (3.12.2)\n",
            "Requirement already satisfied: typing-extensions in /usr/local/lib/python3.10/dist-packages (from torch>=1.7.0->-r yolov5/requirements.txt (line 15)) (4.7.1)\n",
            "Requirement already satisfied: sympy in /usr/local/lib/python3.10/dist-packages (from torch>=1.7.0->-r yolov5/requirements.txt (line 15)) (1.11.1)\n",
            "Requirement already satisfied: networkx in /usr/local/lib/python3.10/dist-packages (from torch>=1.7.0->-r yolov5/requirements.txt (line 15)) (3.1)\n",
            "Requirement already satisfied: jinja2 in /usr/local/lib/python3.10/dist-packages (from torch>=1.7.0->-r yolov5/requirements.txt (line 15)) (3.1.2)\n",
            "Requirement already satisfied: triton==2.0.0 in /usr/local/lib/python3.10/dist-packages (from torch>=1.7.0->-r yolov5/requirements.txt (line 15)) (2.0.0)\n",
            "Requirement already satisfied: cmake in /usr/local/lib/python3.10/dist-packages (from triton==2.0.0->torch>=1.7.0->-r yolov5/requirements.txt (line 15)) (3.25.2)\n",
            "Requirement already satisfied: lit in /usr/local/lib/python3.10/dist-packages (from triton==2.0.0->torch>=1.7.0->-r yolov5/requirements.txt (line 15)) (16.0.6)\n",
            "Requirement already satisfied: pytz>=2020.1 in /usr/local/lib/python3.10/dist-packages (from pandas>=1.1.4->-r yolov5/requirements.txt (line 27)) (2022.7.1)\n",
            "Collecting smmap<6,>=3.0.1 (from gitdb<5,>=4.0.1->gitpython>=3.1.30->-r yolov5/requirements.txt (line 5))\n",
            "  Downloading smmap-5.0.0-py3-none-any.whl (24 kB)\n",
            "Requirement already satisfied: six>=1.5 in /usr/local/lib/python3.10/dist-packages (from python-dateutil>=2.7->matplotlib>=3.3->-r yolov5/requirements.txt (line 6)) (1.16.0)\n",
            "Requirement already satisfied: MarkupSafe>=2.0 in /usr/local/lib/python3.10/dist-packages (from jinja2->torch>=1.7.0->-r yolov5/requirements.txt (line 15)) (2.1.3)\n",
            "Requirement already satisfied: mpmath>=0.19 in /usr/local/lib/python3.10/dist-packages (from sympy->torch>=1.7.0->-r yolov5/requirements.txt (line 15)) (1.3.0)\n",
            "Installing collected packages: smmap, gitdb, gitpython, ultralytics, thop\n",
            "Successfully installed gitdb-4.0.10 gitpython-3.1.32 smmap-5.0.0 thop-0.1.1.post2209072238 ultralytics-8.0.141\n"
          ]
        }
      ]
    },
    {
      "cell_type": "code",
      "source": [
        "TRAIN= True\n",
        "EPOCHS= 10"
      ],
      "metadata": {
        "id": "evNdKHQwom9Z"
      },
      "execution_count": 4,
      "outputs": []
    },
    {
      "cell_type": "code",
      "source": [
        "def set_res_dir():\n",
        "    # Directory to store results\n",
        "    res_dir_count = len(glob.glob('runs/train/*'))\n",
        "    print(f\"Current number of result directories: {res_dir_count}\")\n",
        "    if TRAIN:\n",
        "        RES_DIR = f\"results_{res_dir_count+1}\"\n",
        "        print(RES_DIR)\n",
        "    else:\n",
        "        RES_DIR = f\"results_{res_dir_count}\"\n",
        "    return RES_DIR"
      ],
      "metadata": {
        "id": "S3DXo3cnobuQ"
      },
      "execution_count": 5,
      "outputs": []
    },
    {
      "cell_type": "code",
      "source": [
        "RES_DIR = set_res_dir()\n",
        "if TRAIN:\n",
        "    !python /content/yolov5/train.py --data /content/drive/MyDrive/data_yolov5/custom_dataset.yaml --weights yolov5s.pt \\\n",
        "    --img 640 --epochs {EPOCHS} --batch-size 16 --name {RES_DIR}"
      ],
      "metadata": {
        "colab": {
          "base_uri": "https://localhost:8080/"
        },
        "id": "n8tr8AAUkKl1",
        "outputId": "3d2d8697-7ada-46f5-9482-c231779dcdb6"
      },
      "execution_count": 6,
      "outputs": [
        {
          "output_type": "stream",
          "name": "stdout",
          "text": [
            "Current number of result directories: 0\n",
            "results_1\n",
            "WARNING ⚠️ 'ultralytics.yolo.v8' is deprecated since '8.0.136' and will be removed in '8.1.0'. Please use 'ultralytics.models.yolo' instead.\n",
            "WARNING ⚠️ 'ultralytics.yolo.utils' is deprecated since '8.0.136' and will be removed in '8.1.0'. Please use 'ultralytics.utils' instead.\n",
            "Note this warning may be related to loading older models. You can update your model to current structure with:\n",
            "    import torch\n",
            "    ckpt = torch.load(\"model.pt\")  # applies to both official and custom models\n",
            "    torch.save(ckpt, \"updated-model.pt\")\n",
            "\n",
            "\u001b[34m\u001b[1mtrain: \u001b[0mweights=yolov5s.pt, cfg=, data=/content/drive/MyDrive/data_yolov5/custom_dataset.yaml, hyp=yolov5/data/hyps/hyp.scratch-low.yaml, epochs=10, batch_size=16, imgsz=640, rect=False, resume=False, nosave=False, noval=False, noautoanchor=False, noplots=False, evolve=None, bucket=, cache=None, image_weights=False, device=, multi_scale=False, single_cls=False, optimizer=SGD, sync_bn=False, workers=8, project=yolov5/runs/train, name=results_1, exist_ok=False, quad=False, cos_lr=False, label_smoothing=0.0, patience=100, freeze=[0], save_period=-1, seed=0, local_rank=-1, entity=None, upload_dataset=False, bbox_interval=-1, artifact_alias=latest\n",
            "\u001b[34m\u001b[1mgithub: \u001b[0mup to date with https://github.com/ultralytics/yolov5 ✅\n",
            "YOLOv5 🚀 v7.0-195-g7a70d09 Python-3.10.6 torch-2.0.1+cu118 CUDA:0 (Tesla T4, 15102MiB)\n",
            "\n",
            "\u001b[34m\u001b[1mhyperparameters: \u001b[0mlr0=0.01, lrf=0.01, momentum=0.937, weight_decay=0.0005, warmup_epochs=3.0, warmup_momentum=0.8, warmup_bias_lr=0.1, box=0.05, cls=0.5, cls_pw=1.0, obj=1.0, obj_pw=1.0, iou_t=0.2, anchor_t=4.0, fl_gamma=0.0, hsv_h=0.015, hsv_s=0.7, hsv_v=0.4, degrees=0.0, translate=0.1, scale=0.5, shear=0.0, perspective=0.0, flipud=0.0, fliplr=0.5, mosaic=1.0, mixup=0.0, copy_paste=0.0\n",
            "\u001b[34m\u001b[1mComet: \u001b[0mrun 'pip install comet_ml' to automatically track and visualize YOLOv5 🚀 runs in Comet\n",
            "\u001b[34m\u001b[1mTensorBoard: \u001b[0mStart with 'tensorboard --logdir yolov5/runs/train', view at http://localhost:6006/\n",
            "Downloading https://ultralytics.com/assets/Arial.ttf to /root/.config/Ultralytics/Arial.ttf...\n",
            "100% 755k/755k [00:00<00:00, 135MB/s]\n",
            "Downloading https://github.com/ultralytics/yolov5/releases/download/v7.0/yolov5s.pt to yolov5s.pt...\n",
            "100% 14.1M/14.1M [00:00<00:00, 20.0MB/s]\n",
            "\n",
            "Overriding model.yaml nc=80 with nc=26\n",
            "\n",
            "                 from  n    params  module                                  arguments                     \n",
            "  0                -1  1      3520  models.common.Conv                      [3, 32, 6, 2, 2]              \n",
            "  1                -1  1     18560  models.common.Conv                      [32, 64, 3, 2]                \n",
            "  2                -1  1     18816  models.common.C3                        [64, 64, 1]                   \n",
            "  3                -1  1     73984  models.common.Conv                      [64, 128, 3, 2]               \n",
            "  4                -1  2    115712  models.common.C3                        [128, 128, 2]                 \n",
            "  5                -1  1    295424  models.common.Conv                      [128, 256, 3, 2]              \n",
            "  6                -1  3    625152  models.common.C3                        [256, 256, 3]                 \n",
            "  7                -1  1   1180672  models.common.Conv                      [256, 512, 3, 2]              \n",
            "  8                -1  1   1182720  models.common.C3                        [512, 512, 1]                 \n",
            "  9                -1  1    656896  models.common.SPPF                      [512, 512, 5]                 \n",
            " 10                -1  1    131584  models.common.Conv                      [512, 256, 1, 1]              \n",
            " 11                -1  1         0  torch.nn.modules.upsampling.Upsample    [None, 2, 'nearest']          \n",
            " 12           [-1, 6]  1         0  models.common.Concat                    [1]                           \n",
            " 13                -1  1    361984  models.common.C3                        [512, 256, 1, False]          \n",
            " 14                -1  1     33024  models.common.Conv                      [256, 128, 1, 1]              \n",
            " 15                -1  1         0  torch.nn.modules.upsampling.Upsample    [None, 2, 'nearest']          \n",
            " 16           [-1, 4]  1         0  models.common.Concat                    [1]                           \n",
            " 17                -1  1     90880  models.common.C3                        [256, 128, 1, False]          \n",
            " 18                -1  1    147712  models.common.Conv                      [128, 128, 3, 2]              \n",
            " 19          [-1, 14]  1         0  models.common.Concat                    [1]                           \n",
            " 20                -1  1    296448  models.common.C3                        [256, 256, 1, False]          \n",
            " 21                -1  1    590336  models.common.Conv                      [256, 256, 3, 2]              \n",
            " 22          [-1, 10]  1         0  models.common.Concat                    [1]                           \n",
            " 23                -1  1   1182720  models.common.C3                        [512, 512, 1, False]          \n",
            " 24      [17, 20, 23]  1     83607  models.yolo.Detect                      [26, [[10, 13, 16, 30, 33, 23], [30, 61, 62, 45, 59, 119], [116, 90, 156, 198, 373, 326]], [128, 256, 512]]\n",
            "Model summary: 214 layers, 7089751 parameters, 7089751 gradients, 16.2 GFLOPs\n",
            "\n",
            "Transferred 343/349 items from yolov5s.pt\n",
            "\u001b[34m\u001b[1mAMP: \u001b[0mchecks passed ✅\n",
            "\u001b[34m\u001b[1moptimizer:\u001b[0m SGD(lr=0.01) with parameter groups 57 weight(decay=0.0), 60 weight(decay=0.0005), 60 bias\n",
            "\u001b[34m\u001b[1malbumentations: \u001b[0mBlur(p=0.01, blur_limit=(3, 7)), MedianBlur(p=0.01, blur_limit=(3, 7)), ToGray(p=0.01), CLAHE(p=0.01, clip_limit=(1, 4.0), tile_grid_size=(8, 8))\n",
            "\u001b[34m\u001b[1mtrain: \u001b[0mScanning /content/drive/MyDrive/data_yolov5/train/labels.cache... 1512 images, 0 backgrounds, 0 corrupt: 100% 1512/1512 [00:00<?, ?it/s]\n",
            "\u001b[34m\u001b[1mval: \u001b[0mScanning /content/drive/MyDrive/data_yolov5/valid/labels.cache... 144 images, 0 backgrounds, 0 corrupt: 100% 144/144 [00:00<?, ?it/s]\n",
            "\n",
            "\u001b[34m\u001b[1mAutoAnchor: \u001b[0m2.67 anchors/target, 1.000 Best Possible Recall (BPR). Current anchors are a good fit to dataset ✅\n",
            "Plotting labels to yolov5/runs/train/results_1/labels.jpg... \n",
            "Image sizes 640 train, 640 val\n",
            "Using 2 dataloader workers\n",
            "Logging results to \u001b[1myolov5/runs/train/results_1\u001b[0m\n",
            "Starting training for 10 epochs...\n",
            "\n",
            "      Epoch    GPU_mem   box_loss   obj_loss   cls_loss  Instances       Size\n",
            "        0/9      3.52G    0.07063    0.02668     0.0727         14        640: 100% 95/95 [14:12<00:00,  8.98s/it]\n",
            "                 Class     Images  Instances          P          R      mAP50   mAP50-95: 100% 5/5 [00:03<00:00,  1.53it/s]\n",
            "                   all        144        144    0.00352      0.932     0.0439     0.0186\n",
            "\n",
            "      Epoch    GPU_mem   box_loss   obj_loss   cls_loss  Instances       Size\n",
            "        1/9      4.33G    0.04512    0.01941    0.06752         14        640: 100% 95/95 [00:42<00:00,  2.23it/s]\n",
            "                 Class     Images  Instances          P          R      mAP50   mAP50-95: 100% 5/5 [00:02<00:00,  2.15it/s]\n",
            "                   all        144        144    0.00846      0.864     0.0782     0.0258\n",
            "\n",
            "      Epoch    GPU_mem   box_loss   obj_loss   cls_loss  Instances       Size\n",
            "        2/9      4.33G    0.04257     0.0166    0.06799         17        640: 100% 95/95 [00:42<00:00,  2.25it/s]\n",
            "                 Class     Images  Instances          P          R      mAP50   mAP50-95: 100% 5/5 [00:02<00:00,  2.07it/s]\n",
            "                   all        144        144     0.0113      0.881      0.122     0.0478\n",
            "\n",
            "      Epoch    GPU_mem   box_loss   obj_loss   cls_loss  Instances       Size\n",
            "        3/9      4.33G    0.03739    0.01498    0.06471         15        640: 100% 95/95 [00:44<00:00,  2.16it/s]\n",
            "                 Class     Images  Instances          P          R      mAP50   mAP50-95: 100% 5/5 [00:02<00:00,  2.11it/s]\n",
            "                   all        144        144     0.0558      0.702       0.14     0.0752\n",
            "\n",
            "      Epoch    GPU_mem   box_loss   obj_loss   cls_loss  Instances       Size\n",
            "        4/9      4.33G    0.03321    0.01368    0.06317         21        640: 100% 95/95 [00:42<00:00,  2.24it/s]\n",
            "                 Class     Images  Instances          P          R      mAP50   mAP50-95: 100% 5/5 [00:02<00:00,  2.25it/s]\n",
            "                   all        144        144       0.36      0.182      0.169     0.0954\n",
            "\n",
            "      Epoch    GPU_mem   box_loss   obj_loss   cls_loss  Instances       Size\n",
            "        5/9      4.33G    0.03169    0.01294    0.06202         17        640: 100% 95/95 [00:42<00:00,  2.24it/s]\n",
            "                 Class     Images  Instances          P          R      mAP50   mAP50-95: 100% 5/5 [00:02<00:00,  1.75it/s]\n",
            "                   all        144        144      0.416       0.19      0.225      0.145\n",
            "\n",
            "      Epoch    GPU_mem   box_loss   obj_loss   cls_loss  Instances       Size\n",
            "        6/9      4.33G    0.02753    0.01272    0.05826         17        640: 100% 95/95 [00:40<00:00,  2.32it/s]\n",
            "                 Class     Images  Instances          P          R      mAP50   mAP50-95: 100% 5/5 [00:03<00:00,  1.32it/s]\n",
            "                   all        144        144      0.351      0.366      0.261      0.193\n",
            "\n",
            "      Epoch    GPU_mem   box_loss   obj_loss   cls_loss  Instances       Size\n",
            "        7/9      4.33G    0.02872    0.01227    0.05797         11        640: 100% 95/95 [00:41<00:00,  2.28it/s]\n",
            "                 Class     Images  Instances          P          R      mAP50   mAP50-95: 100% 5/5 [00:03<00:00,  1.54it/s]\n",
            "                   all        144        144      0.467      0.374      0.307      0.194\n",
            "\n",
            "      Epoch    GPU_mem   box_loss   obj_loss   cls_loss  Instances       Size\n",
            "        8/9      4.33G    0.02614    0.01129    0.05836         21        640: 100% 95/95 [00:44<00:00,  2.14it/s]\n",
            "                 Class     Images  Instances          P          R      mAP50   mAP50-95: 100% 5/5 [00:02<00:00,  2.41it/s]\n",
            "                   all        144        144      0.318       0.46      0.371      0.289\n",
            "\n",
            "      Epoch    GPU_mem   box_loss   obj_loss   cls_loss  Instances       Size\n",
            "        9/9      4.33G    0.02438    0.01162    0.05422         19        640: 100% 95/95 [00:42<00:00,  2.22it/s]\n",
            "                 Class     Images  Instances          P          R      mAP50   mAP50-95: 100% 5/5 [00:02<00:00,  2.27it/s]\n",
            "                   all        144        144      0.248      0.579      0.358      0.248\n",
            "\n",
            "10 epochs completed in 0.353 hours.\n",
            "Optimizer stripped from yolov5/runs/train/results_1/weights/last.pt, 14.6MB\n",
            "Optimizer stripped from yolov5/runs/train/results_1/weights/best.pt, 14.6MB\n",
            "\n",
            "Validating yolov5/runs/train/results_1/weights/best.pt...\n",
            "Fusing layers... \n",
            "Model summary: 157 layers, 7080247 parameters, 0 gradients, 16.0 GFLOPs\n",
            "                 Class     Images  Instances          P          R      mAP50   mAP50-95: 100% 5/5 [00:04<00:00,  1.12it/s]\n",
            "                   all        144        144      0.328      0.488      0.369      0.287\n",
            "                     A        144          5      0.181        0.6      0.387      0.326\n",
            "                     B        144          9          0          0      0.112     0.0853\n",
            "                     C        144          3          1          0     0.0773     0.0478\n",
            "                     D        144          6      0.137      0.833      0.376      0.305\n",
            "                     E        144          4      0.151          1      0.677        0.6\n",
            "                     F        144          8     0.0984      0.375      0.159      0.128\n",
            "                     G        144          5      0.175          1      0.385      0.282\n",
            "                     H        144          9      0.337          1      0.784      0.518\n",
            "                     I        144          2      0.268        0.5       0.26      0.232\n",
            "                     J        144          8      0.372      0.875       0.74      0.301\n",
            "                     K        144          6      0.554      0.667      0.442      0.392\n",
            "                     L        144          4      0.148       0.75      0.658      0.544\n",
            "                     M        144          8      0.672      0.514       0.55      0.471\n",
            "                     N        144          4      0.153        0.5      0.124      0.105\n",
            "                     O        144          7          1          0       0.11     0.0778\n",
            "                     P        144          7          0          0      0.123     0.0771\n",
            "                     Q        144          4      0.114        0.5      0.369      0.289\n",
            "                     R        144          7      0.232      0.143      0.168      0.133\n",
            "                     S        144          4      0.149          1      0.439      0.426\n",
            "                     T        144          6          0          0      0.162      0.134\n",
            "                     U        144          7          0          0      0.266      0.214\n",
            "                     V        144          5     0.0949        0.4      0.457      0.358\n",
            "                     W        144          3      0.094      0.667      0.191      0.173\n",
            "                     X        144          1          1          0     0.0129     0.0116\n",
            "                     Y        144          8       0.77      0.375       0.58      0.371\n",
            "                     Z        144          4      0.817          1      0.995      0.871\n",
            "Results saved to \u001b[1myolov5/runs/train/results_1\u001b[0m\n"
          ]
        }
      ]
    },
    {
      "cell_type": "code",
      "source": [
        "!python /content/yolov5/detect.py --weights '/content/yolov5/runs/train/results_1/weights/best.pt' --img 416 --conf 0.1 --source '/content/drive/MyDrive/data_yolov5/test/images'"
      ],
      "metadata": {
        "colab": {
          "base_uri": "https://localhost:8080/"
        },
        "id": "cWiQ4aQtkKoQ",
        "outputId": "7ee0d74a-2f0e-4964-fa5d-f92c5163c75f"
      },
      "execution_count": 10,
      "outputs": [
        {
          "output_type": "stream",
          "name": "stdout",
          "text": [
            "WARNING ⚠️ 'ultralytics.yolo.v8' is deprecated since '8.0.136' and will be removed in '8.1.0'. Please use 'ultralytics.models.yolo' instead.\n",
            "WARNING ⚠️ 'ultralytics.yolo.utils' is deprecated since '8.0.136' and will be removed in '8.1.0'. Please use 'ultralytics.utils' instead.\n",
            "Note this warning may be related to loading older models. You can update your model to current structure with:\n",
            "    import torch\n",
            "    ckpt = torch.load(\"model.pt\")  # applies to both official and custom models\n",
            "    torch.save(ckpt, \"updated-model.pt\")\n",
            "\n",
            "\u001b[34m\u001b[1mdetect: \u001b[0mweights=['/content/yolov5/runs/train/results_1/weights/best.pt'], source=/content/drive/MyDrive/data_yolov5/test/images, data=yolov5/data/coco128.yaml, imgsz=[416, 416], conf_thres=0.1, iou_thres=0.45, max_det=1000, device=, view_img=False, save_txt=False, save_conf=False, save_crop=False, nosave=False, classes=None, agnostic_nms=False, augment=False, visualize=False, update=False, project=yolov5/runs/detect, name=exp, exist_ok=False, line_thickness=3, hide_labels=False, hide_conf=False, half=False, dnn=False, vid_stride=1\n",
            "YOLOv5 🚀 v7.0-195-g7a70d09 Python-3.10.6 torch-2.0.1+cu118 CUDA:0 (Tesla T4, 15102MiB)\n",
            "\n",
            "Fusing layers... \n",
            "Model summary: 157 layers, 7080247 parameters, 0 gradients, 16.0 GFLOPs\n",
            "image 1/72 /content/drive/MyDrive/data_yolov5/test/images/A22_jpg.rf.f02ad8558ce1c88213b4f83c0bc66bc8.jpg: 416x416 1 E, 1 S, 7.4ms\n",
            "image 2/72 /content/drive/MyDrive/data_yolov5/test/images/B14_jpg.rf.ed5ba6d44f55ab03e62d2baeac4aa1aa.jpg: 416x416 (no detections), 7.4ms\n",
            "image 3/72 /content/drive/MyDrive/data_yolov5/test/images/B15_jpg.rf.0f0628552139144fc67c453e1f1b7b15.jpg: 416x416 (no detections), 7.4ms\n",
            "image 4/72 /content/drive/MyDrive/data_yolov5/test/images/B19_jpg.rf.69527cc1f34d694cc04e55db80ed9b1a.jpg: 416x416 1 D, 11.3ms\n",
            "image 5/72 /content/drive/MyDrive/data_yolov5/test/images/C17_jpg.rf.ceb81f8ae3c3673bd060ebe71848eca8.jpg: 416x416 (no detections), 7.8ms\n",
            "image 6/72 /content/drive/MyDrive/data_yolov5/test/images/C19_jpg.rf.577ce02a223c65e89dc4a4eacd130040.jpg: 416x416 (no detections), 7.5ms\n",
            "image 7/72 /content/drive/MyDrive/data_yolov5/test/images/C22_jpg.rf.e54cbbfdd4ea0670eb4e1c507de4a8a2.jpg: 416x416 1 L, 7.4ms\n",
            "image 8/72 /content/drive/MyDrive/data_yolov5/test/images/C23_jpg.rf.cff2647e71600ac354da45cb87eca667.jpg: 416x416 (no detections), 7.4ms\n",
            "image 9/72 /content/drive/MyDrive/data_yolov5/test/images/D1_jpg.rf.89a5f6f41bf8bc795db94105f709dd34.jpg: 416x416 1 F, 1 L, 1 V, 1 W, 7.5ms\n",
            "image 10/72 /content/drive/MyDrive/data_yolov5/test/images/F17_jpg.rf.6097db79e0385af55b85ad5fa03cdc55.jpg: 416x416 1 B, 7.4ms\n",
            "image 11/72 /content/drive/MyDrive/data_yolov5/test/images/F3_jpg.rf.c854e14a7108c9294c226a392026e73b.jpg: 416x416 1 L, 7.4ms\n",
            "image 12/72 /content/drive/MyDrive/data_yolov5/test/images/G11_jpg.rf.cc02dc447a7959e73869f4f45b0ef29a.jpg: 416x416 1 G, 1 H, 7.4ms\n",
            "image 13/72 /content/drive/MyDrive/data_yolov5/test/images/G20_jpg.rf.e0c7b5abdee0fb589e576002c76f4ace.jpg: 416x416 1 G, 1 H, 7.4ms\n",
            "image 14/72 /content/drive/MyDrive/data_yolov5/test/images/G3_jpg.rf.e723dcdc277f3432e4eb7003b6e5a587.jpg: 416x416 1 H, 10.8ms\n",
            "image 15/72 /content/drive/MyDrive/data_yolov5/test/images/G4_jpg.rf.d55500c4fc04c89c78d42e2283860275.jpg: 416x416 1 G, 1 H, 7.9ms\n",
            "image 16/72 /content/drive/MyDrive/data_yolov5/test/images/G7_jpg.rf.04faf434dd590a7bd02818b2b57a704f.jpg: 416x416 1 G, 1 H, 7.4ms\n",
            "image 17/72 /content/drive/MyDrive/data_yolov5/test/images/H19_jpg.rf.4957c34731ee5c867288825f5ca9f170.jpg: 416x416 1 G, 1 H, 7.4ms\n",
            "image 18/72 /content/drive/MyDrive/data_yolov5/test/images/H25_jpg.rf.dce08bcb4d091593dda19db8b0d2b155.jpg: 416x416 1 H, 7.4ms\n",
            "image 19/72 /content/drive/MyDrive/data_yolov5/test/images/H5_jpg.rf.f7077ae3eb67ac9f01bd2914625a05b9.jpg: 416x416 1 G, 1 H, 7.6ms\n",
            "image 20/72 /content/drive/MyDrive/data_yolov5/test/images/I17_jpg.rf.8f1ed619e93147f7f9754a4eddbb90de.jpg: 416x416 1 I, 1 L, 7.4ms\n",
            "image 21/72 /content/drive/MyDrive/data_yolov5/test/images/I28_jpg.rf.74efc17a40df4bbd0bc63625be836201.jpg: 416x416 (no detections), 7.4ms\n",
            "image 22/72 /content/drive/MyDrive/data_yolov5/test/images/J27_jpg.rf.d8b9ca4ab3abf8436b2faab339881496.jpg: 416x416 1 G, 1 Q, 7.4ms\n",
            "image 23/72 /content/drive/MyDrive/data_yolov5/test/images/J28_jpg.rf.e25320de48d1b6037555bcdb95d28f0d.jpg: 416x416 1 J, 7.4ms\n",
            "image 24/72 /content/drive/MyDrive/data_yolov5/test/images/J6_jpg.rf.6db6cb7829752f430ec8344bc7605444.jpg: 416x416 1 J, 7.4ms\n",
            "image 25/72 /content/drive/MyDrive/data_yolov5/test/images/J9_jpg.rf.213a9e356777a13d336e4988c33a93e1.jpg: 416x416 1 J, 8.8ms\n",
            "image 26/72 /content/drive/MyDrive/data_yolov5/test/images/K12_jpg.rf.1bd849de853e33f6262b6643555e098f.jpg: 416x416 1 L, 7.5ms\n",
            "image 27/72 /content/drive/MyDrive/data_yolov5/test/images/K13_jpg.rf.d544147ca4794793e996cbe309fbcf28.jpg: 416x416 1 F, 1 L, 1 W, 7.4ms\n",
            "image 28/72 /content/drive/MyDrive/data_yolov5/test/images/K24_jpg.rf.f1a48e0e3bf4bcae3540590c972d57f3.jpg: 416x416 1 K, 7.4ms\n",
            "image 29/72 /content/drive/MyDrive/data_yolov5/test/images/K6_jpg.rf.5f1f357165ba30376b667035f60fc6ce.jpg: 416x416 1 L, 7.4ms\n",
            "image 30/72 /content/drive/MyDrive/data_yolov5/test/images/M14_jpg.rf.f7da6c9c9d9d3f5c6db4689846f722cc.jpg: 416x416 1 S, 8.0ms\n",
            "image 31/72 /content/drive/MyDrive/data_yolov5/test/images/M20_jpg.rf.aa9f2799d2cbe8f51363ec2862b427a6.jpg: 416x416 (no detections), 9.7ms\n",
            "image 32/72 /content/drive/MyDrive/data_yolov5/test/images/M24_jpg.rf.f5f17e72ed1a7213e2a01f60f8afc158.jpg: 416x416 1 E, 7.4ms\n",
            "image 33/72 /content/drive/MyDrive/data_yolov5/test/images/N22_jpg.rf.ac8a6d5cd21bd7e4fd93128e6eb24329.jpg: 416x416 (no detections), 7.4ms\n",
            "image 34/72 /content/drive/MyDrive/data_yolov5/test/images/N6_jpg.rf.3899dd6cc1da66139de57126a250c175.jpg: 416x416 1 E, 1 S, 7.4ms\n",
            "image 35/72 /content/drive/MyDrive/data_yolov5/test/images/N9_jpg.rf.b92e9f54839f076f92f54388320fb7a3.jpg: 416x416 1 G, 10.3ms\n",
            "image 36/72 /content/drive/MyDrive/data_yolov5/test/images/O12_jpg.rf.9103647cd190af96ac2a83f7bd1d0ae2.jpg: 416x416 1 G, 1 H, 1 Q, 7.5ms\n",
            "image 37/72 /content/drive/MyDrive/data_yolov5/test/images/O20_jpg.rf.517237686eca6346d6d72cbd96b79cb3.jpg: 416x416 1 G, 9.4ms\n",
            "image 38/72 /content/drive/MyDrive/data_yolov5/test/images/O4_jpg.rf.82c403d496488192d134b233a080d258.jpg: 416x416 (no detections), 7.4ms\n",
            "image 39/72 /content/drive/MyDrive/data_yolov5/test/images/P24_jpg.rf.67b98ae281f9a130f5e6f70ebb1e574f.jpg: 416x416 1 G, 1 H, 7.4ms\n",
            "image 40/72 /content/drive/MyDrive/data_yolov5/test/images/Q10_jpg.rf.87a66659eb5791bf51f56ff1e1883273.jpg: 416x416 1 J, 7.4ms\n",
            "image 41/72 /content/drive/MyDrive/data_yolov5/test/images/Q7_jpg.rf.07fdf6c096cd2a9be72b4de4a627935d.jpg: 416x416 1 G, 7.4ms\n",
            "image 42/72 /content/drive/MyDrive/data_yolov5/test/images/R18_jpg.rf.362d9bbd88ac7b5122cf730d25b36517.jpg: 416x416 1 D, 1 F, 1 W, 7.4ms\n",
            "image 43/72 /content/drive/MyDrive/data_yolov5/test/images/R5_jpg.rf.1e94c77f430ee342744dc9fce202c449.jpg: 416x416 (no detections), 7.4ms\n",
            "image 44/72 /content/drive/MyDrive/data_yolov5/test/images/S0_jpg.rf.4466ad3687a4cfac9f6e4474d89e121e.jpg: 416x416 1 E, 1 S, 7.4ms\n",
            "image 45/72 /content/drive/MyDrive/data_yolov5/test/images/S16_jpg.rf.138a4aa81180adcc24323c1634ed507e.jpg: 416x416 1 E, 1 S, 7.4ms\n",
            "image 46/72 /content/drive/MyDrive/data_yolov5/test/images/S6_jpg.rf.0b6e42445a56998369cdd3759c2cf3d4.jpg: 416x416 1 A, 1 E, 1 M, 1 S, 7.6ms\n",
            "image 47/72 /content/drive/MyDrive/data_yolov5/test/images/T13_jpg.rf.bf67ceb39727be048066c0de76801971.jpg: 416x416 1 E, 1 S, 7.6ms\n",
            "image 48/72 /content/drive/MyDrive/data_yolov5/test/images/T17_jpg.rf.7fecdf5c5e4e4574de71a65611579e0f.jpg: 416x416 1 E, 1 S, 7.5ms\n",
            "image 49/72 /content/drive/MyDrive/data_yolov5/test/images/T18_jpg.rf.334025dd29760be4f8918fd6d6c3f01c.jpg: 416x416 1 E, 1 S, 7.4ms\n",
            "image 50/72 /content/drive/MyDrive/data_yolov5/test/images/T1_jpg.rf.877948f560962d1e267a72617d9e1ed4.jpg: 416x416 1 E, 1 S, 7.5ms\n",
            "image 51/72 /content/drive/MyDrive/data_yolov5/test/images/T24_jpg.rf.068e7b2424eac996c86bb6d9c38e083d.jpg: 416x416 1 E, 1 M, 1 S, 7.4ms\n",
            "image 52/72 /content/drive/MyDrive/data_yolov5/test/images/U5_jpg.rf.2be92300b664a1946dde8902dc50adbb.jpg: 416x416 (no detections), 7.4ms\n",
            "image 53/72 /content/drive/MyDrive/data_yolov5/test/images/U6_jpg.rf.5a219aee1c9d41d5fdeabd66f78d0f68.jpg: 416x416 1 F, 1 L, 1 U, 1 W, 7.4ms\n",
            "image 54/72 /content/drive/MyDrive/data_yolov5/test/images/V10_jpg.rf.18af9b37cbe013f9a0640294fb71f0d6.jpg: 416x416 1 L, 1 V, 1 W, 7.4ms\n",
            "image 55/72 /content/drive/MyDrive/data_yolov5/test/images/V12_jpg.rf.0e68ec7ee88bd6f0f70fe5496e893068.jpg: 416x416 1 L, 1 V, 1 W, 7.4ms\n",
            "image 56/72 /content/drive/MyDrive/data_yolov5/test/images/V27_jpg.rf.c316e3cfcddb7fe8d6ed9e06290b3b1c.jpg: 416x416 1 L, 1 V, 1 W, 7.4ms\n",
            "image 57/72 /content/drive/MyDrive/data_yolov5/test/images/V2_jpg.rf.f887a9d681a64f8a2efe8375245ab4bb.jpg: 416x416 1 L, 7.7ms\n",
            "image 58/72 /content/drive/MyDrive/data_yolov5/test/images/W16_jpg.rf.5771e4967321c7e827758319e697bed6.jpg: 416x416 1 L, 1 W, 7.5ms\n",
            "image 59/72 /content/drive/MyDrive/data_yolov5/test/images/W19_jpg.rf.62d8144cb69396b18abeb70e34191b2a.jpg: 416x416 1 L, 1 W, 7.4ms\n",
            "image 60/72 /content/drive/MyDrive/data_yolov5/test/images/W23_jpg.rf.caecf7140a005d779f0950cc7c6a7616.jpg: 416x416 1 F, 1 L, 1 W, 7.4ms\n",
            "image 61/72 /content/drive/MyDrive/data_yolov5/test/images/W24_jpg.rf.1bc37c6fc4770b284edc6f9027eb6cf2.jpg: 416x416 1 F, 1 L, 1 V, 1 W, 7.4ms\n",
            "image 62/72 /content/drive/MyDrive/data_yolov5/test/images/W7_jpg.rf.c80a52e6a95797bd8cf3a03ec4701d99.jpg: 416x416 1 L, 1 W, 7.4ms\n",
            "image 63/72 /content/drive/MyDrive/data_yolov5/test/images/X14_jpg.rf.3c3c69ed80d0ce1688d1dde4b21f19f9.jpg: 416x416 (no detections), 7.4ms\n",
            "image 64/72 /content/drive/MyDrive/data_yolov5/test/images/X20_jpg.rf.2a36699005b7e1881e5faa278c506b86.jpg: 416x416 (no detections), 7.5ms\n",
            "image 65/72 /content/drive/MyDrive/data_yolov5/test/images/X24_jpg.rf.ed6474bd56983fbdb13576b2c3e9c0b7.jpg: 416x416 (no detections), 7.4ms\n",
            "image 66/72 /content/drive/MyDrive/data_yolov5/test/images/X9_jpg.rf.28187742b082579d85eda81cf98bf5bb.jpg: 416x416 1 S, 7.4ms\n",
            "image 67/72 /content/drive/MyDrive/data_yolov5/test/images/Y25_jpg.rf.a8796b77dd8c6370577ceacd3852b4b9.jpg: 416x416 1 I, 7.9ms\n",
            "image 68/72 /content/drive/MyDrive/data_yolov5/test/images/Y5_jpg.rf.86682b1ddac4546cc626ba99a61f42fc.jpg: 416x416 (no detections), 7.7ms\n",
            "image 69/72 /content/drive/MyDrive/data_yolov5/test/images/Z16_jpg.rf.309328aaeb31736f8a93a570d6d4f140.jpg: 416x416 1 Z, 10.0ms\n",
            "image 70/72 /content/drive/MyDrive/data_yolov5/test/images/Z18_jpg.rf.2cffbd9beaeb50a7d03751c3ce738e81.jpg: 416x416 1 Z, 7.4ms\n",
            "image 71/72 /content/drive/MyDrive/data_yolov5/test/images/Z27_jpg.rf.0a3e757898215b17678047cb5485c82c.jpg: 416x416 1 Z, 7.4ms\n",
            "image 72/72 /content/drive/MyDrive/data_yolov5/test/images/Z9_jpg.rf.fd5bb2f80d391b73a85bbbd5bc5accc1.jpg: 416x416 1 Z, 7.4ms\n",
            "Speed: 0.5ms pre-process, 7.7ms inference, 1.1ms NMS per image at shape (1, 3, 416, 416)\n",
            "Results saved to \u001b[1myolov5/runs/detect/exp2\u001b[0m\n"
          ]
        }
      ]
    },
    {
      "cell_type": "code",
      "source": [
        "import glob\n",
        "from IPython.display import Image, display\n",
        "\n",
        "for imageName in glob.glob('/content/yolov5/runs/detect/exp2/A22_jpg.rf.f02ad8558ce1c88213b4f83c0bc66bc8.jpg'):\n",
        "    display(Image(filename=imageName))\n",
        "    print(\"\\n\")"
      ],
      "metadata": {
        "colab": {
          "base_uri": "https://localhost:8080/",
          "height": 467
        },
        "id": "080kIDihkKq7",
        "outputId": "04495a2b-75fb-445b-f97b-3e41c14b0169"
      },
      "execution_count": 11,
      "outputs": [
        {
          "output_type": "display_data",
          "data": {
            "image/jpeg": "[encoded data removed]",
            "text/plain": [
              "<IPython.core.display.Image object>"
            ]
          },
          "metadata": {}
        },
        {
          "output_type": "stream",
          "name": "stdout",
          "text": [
            "\n",
            "\n"
          ]
        }
      ]
    }
  ]
}